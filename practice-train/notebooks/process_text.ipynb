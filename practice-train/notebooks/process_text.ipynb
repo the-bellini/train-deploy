{
 "cells": [
  {
   "cell_type": "code",
   "execution_count": 9,
   "metadata": {},
   "outputs": [],
   "source": [
    "import pandas as pd"
   ]
  },
  {
   "cell_type": "markdown",
   "metadata": {},
   "source": [
    "### Load dataset"
   ]
  },
  {
   "cell_type": "code",
   "execution_count": 10,
   "metadata": {},
   "outputs": [],
   "source": [
    "df = pd.read_csv(\"/Users/thomasbelin/Downloads/archive (1)/train.csv\")"
   ]
  },
  {
   "cell_type": "markdown",
   "metadata": {},
   "source": [
    "### Preprocess text"
   ]
  },
  {
   "cell_type": "code",
   "execution_count": 11,
   "metadata": {},
   "outputs": [],
   "source": [
    "# Get individual lines\n",
    "ls = df[\"text\"].iloc[0].split(\"\\n\\n\")"
   ]
  },
  {
   "cell_type": "code",
   "execution_count": 12,
   "metadata": {},
   "outputs": [],
   "source": [
    "# Format text into question and response\n",
    "# format_text = [\"<bos><start_of_turn>user\\n\" + ls[idx].split(\"\\n\", 1)[1].replace(\"\\n\", \" \") + \" <end_of_turn>\\n<start_of_turn>model\\n\" + ls[idx + 1].split(\":\", 1)[1].replace(\"\\n\", \" \").strip() + \"<end_of_turn><eos>\" for idx, quote in enumerate(ls) if quote[-1] == \"?\" and idx <= len(ls)]\n",
    "# format_text = [\"Question: \" + ls[idx].split(\"\\n\", 1)[1].replace(\"\\n\", \" \") + \" Answer: \" + ls[idx + 1].split(\":\", 1)[1].replace(\"\\n\", \" \").strip() for idx, quote in enumerate(ls) if quote[-1] == \"?\" and idx <= len(ls)]\n",
    "format_text = [ls[idx].split(\"\\n\", 1)[1].replace(\"\\n\", \" \") + \" \" + ls[idx + 1].split(\":\", 1)[1].replace(\"\\n\", \" \").strip() for idx, quote in enumerate(ls) if quote[-1] == \"?\" and idx <= len(ls)]"
   ]
  },
  {
   "cell_type": "code",
   "execution_count": 13,
   "metadata": {},
   "outputs": [
    {
     "name": "stdout",
     "output_type": "stream",
     "text": [
      "['You are all resolved rather to die than to famish? Resolved. resolved.', \"Let us kill him, and we'll have corn at our own price. Is't a verdict? No more talking on't; let it be done: away, away!\", \"Would you proceed especially against Caius Marcius? Against him first: he's a very dog to the commonalty.\", 'Consider you what services he has done for his country? Very well; and could be content to give him good report fort, but that he pays himself with being proud.', 'Soft! who comes here? Worthy Menenius Agrippa; one that hath always loved the people.']\n",
      "1123\n"
     ]
    }
   ],
   "source": [
    "# View format\n",
    "print(format_text[:5])\n",
    "print(len(format_text))"
   ]
  },
  {
   "cell_type": "code",
   "execution_count": 14,
   "metadata": {},
   "outputs": [],
   "source": [
    "# Save as pickle\n",
    "pd.DataFrame(format_text[:int(len(format_text)*0.9)], columns=[\"prompt\"]).to_pickle(\"../data/train\")\n",
    "pd.DataFrame(format_text[int(len(format_text)*0.9):int(len(format_text)*0.99)], columns=[\"prompt\"]).to_pickle(\"../data/eval\")\n",
    "pd.DataFrame(format_text[int(len(format_text)*0.99):], columns=[\"prompt\"]).to_pickle(\"../data/test\")"
   ]
  },
  {
   "cell_type": "code",
   "execution_count": 15,
   "metadata": {},
   "outputs": [
    {
     "data": {
      "text/html": [
       "<div>\n",
       "<style scoped>\n",
       "    .dataframe tbody tr th:only-of-type {\n",
       "        vertical-align: middle;\n",
       "    }\n",
       "\n",
       "    .dataframe tbody tr th {\n",
       "        vertical-align: top;\n",
       "    }\n",
       "\n",
       "    .dataframe thead th {\n",
       "        text-align: right;\n",
       "    }\n",
       "</style>\n",
       "<table border=\"1\" class=\"dataframe\">\n",
       "  <thead>\n",
       "    <tr style=\"text-align: right;\">\n",
       "      <th></th>\n",
       "      <th>prompt</th>\n",
       "    </tr>\n",
       "  </thead>\n",
       "  <tbody>\n",
       "    <tr>\n",
       "      <th>0</th>\n",
       "      <td>Will I live? Will he woo her? ay, or I'll hang...</td>\n",
       "    </tr>\n",
       "    <tr>\n",
       "      <th>1</th>\n",
       "      <td>Gentlemen, God save you. If I may be bold, Tel...</td>\n",
       "    </tr>\n",
       "    <tr>\n",
       "      <th>2</th>\n",
       "      <td>He that has the two fair daughters: is't he yo...</td>\n",
       "    </tr>\n",
       "    <tr>\n",
       "      <th>3</th>\n",
       "      <td>Perhaps, him and her, sir: what have you to do...</td>\n",
       "    </tr>\n",
       "    <tr>\n",
       "      <th>4</th>\n",
       "      <td>Sir, a word ere you go; Are you a suitor to th...</td>\n",
       "    </tr>\n",
       "    <tr>\n",
       "      <th>5</th>\n",
       "      <td>And if I be, sir, is it any offence? No; if wi...</td>\n",
       "    </tr>\n",
       "    <tr>\n",
       "      <th>6</th>\n",
       "      <td>Why, sir, I pray, are not the streets as free ...</td>\n",
       "    </tr>\n",
       "    <tr>\n",
       "      <th>7</th>\n",
       "      <td>For what reason, I beseech you? For this reaso...</td>\n",
       "    </tr>\n",
       "    <tr>\n",
       "      <th>8</th>\n",
       "      <td>Hortensio, to what end are all these words? Si...</td>\n",
       "    </tr>\n",
       "    <tr>\n",
       "      <th>9</th>\n",
       "      <td>Sir, let me be so bold as ask you, Did you yet...</td>\n",
       "    </tr>\n",
       "    <tr>\n",
       "      <th>10</th>\n",
       "      <td>Minion, thou liest. Is't not Hortensio? If you...</td>\n",
       "    </tr>\n",
       "    <tr>\n",
       "      <th>11</th>\n",
       "      <td>Why, how now, dame! whence grows this insolenc...</td>\n",
       "    </tr>\n",
       "  </tbody>\n",
       "</table>\n",
       "</div>"
      ],
      "text/plain": [
       "                                               prompt\n",
       "0   Will I live? Will he woo her? ay, or I'll hang...\n",
       "1   Gentlemen, God save you. If I may be bold, Tel...\n",
       "2   He that has the two fair daughters: is't he yo...\n",
       "3   Perhaps, him and her, sir: what have you to do...\n",
       "4   Sir, a word ere you go; Are you a suitor to th...\n",
       "5   And if I be, sir, is it any offence? No; if wi...\n",
       "6   Why, sir, I pray, are not the streets as free ...\n",
       "7   For what reason, I beseech you? For this reaso...\n",
       "8   Hortensio, to what end are all these words? Si...\n",
       "9   Sir, let me be so bold as ask you, Did you yet...\n",
       "10  Minion, thou liest. Is't not Hortensio? If you...\n",
       "11  Why, how now, dame! whence grows this insolenc..."
      ]
     },
     "execution_count": 15,
     "metadata": {},
     "output_type": "execute_result"
    }
   ],
   "source": [
    "pd.read_pickle(\"../data/test\")"
   ]
  }
 ],
 "metadata": {
  "kernelspec": {
   "display_name": "azure",
   "language": "python",
   "name": "python3"
  },
  "language_info": {
   "codemirror_mode": {
    "name": "ipython",
    "version": 3
   },
   "file_extension": ".py",
   "mimetype": "text/x-python",
   "name": "python",
   "nbconvert_exporter": "python",
   "pygments_lexer": "ipython3",
   "version": "3.12.2"
  }
 },
 "nbformat": 4,
 "nbformat_minor": 2
}
