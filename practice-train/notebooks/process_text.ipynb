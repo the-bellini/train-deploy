{
 "cells": [
  {
   "cell_type": "code",
   "execution_count": 1,
   "metadata": {},
   "outputs": [],
   "source": [
    "import pandas as pd"
   ]
  },
  {
   "cell_type": "markdown",
   "metadata": {},
   "source": [
    "### Load dataset"
   ]
  },
  {
   "cell_type": "code",
   "execution_count": 2,
   "metadata": {},
   "outputs": [],
   "source": [
    "df = pd.read_csv(\"/Users/thomasbelin/Downloads/archive (1)/train.csv\")"
   ]
  },
  {
   "cell_type": "markdown",
   "metadata": {},
   "source": [
    "### Preprocess text"
   ]
  },
  {
   "cell_type": "code",
   "execution_count": 3,
   "metadata": {},
   "outputs": [],
   "source": [
    "# Get individual lines\n",
    "ls = df[\"text\"].iloc[0].split(\"\\n\\n\")"
   ]
  },
  {
   "cell_type": "code",
   "execution_count": 4,
   "metadata": {},
   "outputs": [],
   "source": [
    "# Format text into question and response\n",
    "# format_text = [\"<bos><start_of_turn>user\\n\" + ls[idx].split(\"\\n\", 1)[1].replace(\"\\n\", \" \") + \" <end_of_turn>\\n<start_of_turn>model\\n\" + ls[idx + 1].split(\":\", 1)[1].replace(\"\\n\", \" \").strip() + \"<end_of_turn><eos>\" for idx, quote in enumerate(ls) if quote[-1] == \"?\" and idx <= len(ls)]\n",
    "format_text = [\"Question: \" + ls[idx].split(\"\\n\", 1)[1].replace(\"\\n\", \" \") + \" Answer: \" + ls[idx + 1].split(\":\", 1)[1].replace(\"\\n\", \" \").strip() for idx, quote in enumerate(ls) if quote[-1] == \"?\" and idx <= len(ls)]"
   ]
  },
  {
   "cell_type": "code",
   "execution_count": 5,
   "metadata": {},
   "outputs": [
    {
     "name": "stdout",
     "output_type": "stream",
     "text": [
      "['Question: You are all resolved rather to die than to famish? Answer: Resolved. resolved.', \"Question: Let us kill him, and we'll have corn at our own price. Is't a verdict? Answer: No more talking on't; let it be done: away, away!\", \"Question: Would you proceed especially against Caius Marcius? Answer: Against him first: he's a very dog to the commonalty.\", 'Question: Consider you what services he has done for his country? Answer: Very well; and could be content to give him good report fort, but that he pays himself with being proud.', 'Question: Soft! who comes here? Answer: Worthy Menenius Agrippa; one that hath always loved the people.']\n",
      "1123\n"
     ]
    }
   ],
   "source": [
    "# View format\n",
    "print(format_text[:5])\n",
    "print(len(format_text))"
   ]
  },
  {
   "cell_type": "code",
   "execution_count": 7,
   "metadata": {},
   "outputs": [],
   "source": [
    "# Save as pickle\n",
    "pd.DataFrame(format_text[:int(len(format_text)*0.9)], columns=[\"prompt\"]).to_pickle(\"../data/train\")\n",
    "pd.DataFrame(format_text[int(len(format_text)*0.9):int(len(format_text)*0.99)], columns=[\"prompt\"]).to_pickle(\"../data/eval\")\n",
    "pd.DataFrame(format_text[int(len(format_text)*0.99):], columns=[\"prompt\"]).to_pickle(\"../data/test\")"
   ]
  },
  {
   "cell_type": "code",
   "execution_count": 9,
   "metadata": {},
   "outputs": [
    {
     "data": {
      "text/html": [
       "<div>\n",
       "<style scoped>\n",
       "    .dataframe tbody tr th:only-of-type {\n",
       "        vertical-align: middle;\n",
       "    }\n",
       "\n",
       "    .dataframe tbody tr th {\n",
       "        vertical-align: top;\n",
       "    }\n",
       "\n",
       "    .dataframe thead th {\n",
       "        text-align: right;\n",
       "    }\n",
       "</style>\n",
       "<table border=\"1\" class=\"dataframe\">\n",
       "  <thead>\n",
       "    <tr style=\"text-align: right;\">\n",
       "      <th></th>\n",
       "      <th>prompt</th>\n",
       "    </tr>\n",
       "  </thead>\n",
       "  <tbody>\n",
       "    <tr>\n",
       "      <th>0</th>\n",
       "      <td>Question: Will I live? Answer: Will he woo her...</td>\n",
       "    </tr>\n",
       "    <tr>\n",
       "      <th>1</th>\n",
       "      <td>Question: Gentlemen, God save you. If I may be...</td>\n",
       "    </tr>\n",
       "    <tr>\n",
       "      <th>2</th>\n",
       "      <td>Question: He that has the two fair daughters: ...</td>\n",
       "    </tr>\n",
       "    <tr>\n",
       "      <th>3</th>\n",
       "      <td>Question: Perhaps, him and her, sir: what have...</td>\n",
       "    </tr>\n",
       "    <tr>\n",
       "      <th>4</th>\n",
       "      <td>Question: Sir, a word ere you go; Are you a su...</td>\n",
       "    </tr>\n",
       "    <tr>\n",
       "      <th>5</th>\n",
       "      <td>Question: And if I be, sir, is it any offence?...</td>\n",
       "    </tr>\n",
       "    <tr>\n",
       "      <th>6</th>\n",
       "      <td>Question: Why, sir, I pray, are not the street...</td>\n",
       "    </tr>\n",
       "    <tr>\n",
       "      <th>7</th>\n",
       "      <td>Question: For what reason, I beseech you? Answ...</td>\n",
       "    </tr>\n",
       "    <tr>\n",
       "      <th>8</th>\n",
       "      <td>Question: Hortensio, to what end are all these...</td>\n",
       "    </tr>\n",
       "    <tr>\n",
       "      <th>9</th>\n",
       "      <td>Question: Sir, let me be so bold as ask you, D...</td>\n",
       "    </tr>\n",
       "    <tr>\n",
       "      <th>10</th>\n",
       "      <td>Question: Minion, thou liest. Is't not Hortens...</td>\n",
       "    </tr>\n",
       "    <tr>\n",
       "      <th>11</th>\n",
       "      <td>Question: Why, how now, dame! whence grows thi...</td>\n",
       "    </tr>\n",
       "  </tbody>\n",
       "</table>\n",
       "</div>"
      ],
      "text/plain": [
       "                                               prompt\n",
       "0   Question: Will I live? Answer: Will he woo her...\n",
       "1   Question: Gentlemen, God save you. If I may be...\n",
       "2   Question: He that has the two fair daughters: ...\n",
       "3   Question: Perhaps, him and her, sir: what have...\n",
       "4   Question: Sir, a word ere you go; Are you a su...\n",
       "5   Question: And if I be, sir, is it any offence?...\n",
       "6   Question: Why, sir, I pray, are not the street...\n",
       "7   Question: For what reason, I beseech you? Answ...\n",
       "8   Question: Hortensio, to what end are all these...\n",
       "9   Question: Sir, let me be so bold as ask you, D...\n",
       "10  Question: Minion, thou liest. Is't not Hortens...\n",
       "11  Question: Why, how now, dame! whence grows thi..."
      ]
     },
     "execution_count": 9,
     "metadata": {},
     "output_type": "execute_result"
    }
   ],
   "source": [
    "pd.read_pickle(\"../data/test\")"
   ]
  }
 ],
 "metadata": {
  "kernelspec": {
   "display_name": "azure",
   "language": "python",
   "name": "python3"
  },
  "language_info": {
   "codemirror_mode": {
    "name": "ipython",
    "version": 3
   },
   "file_extension": ".py",
   "mimetype": "text/x-python",
   "name": "python",
   "nbconvert_exporter": "python",
   "pygments_lexer": "ipython3",
   "version": "3.12.2"
  }
 },
 "nbformat": 4,
 "nbformat_minor": 2
}
